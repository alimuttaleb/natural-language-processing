From 30f033fb365d8ed5f3d7703e47c10da1a2b56f3e Mon Sep 17 00:00:00 2001
From: dinesh626 <64886180+dinesh626@users.noreply.github.com>
Date: Sun, 31 May 2020 10:45:38 +0530
Subject: [PATCH] Update week1-MultilabelClassification.ipynb

---
 week1/week1-MultilabelClassification.ipynb | 9 ++++++---
 1 file changed, 6 insertions(+), 3 deletions(-)

diff --git a/week1/week1-MultilabelClassification.ipynb b/week1/week1-MultilabelClassification.ipynb
index 7afe79a..948d5dc 100644
--- a/week1/week1-MultilabelClassification.ipynb
+++ b/week1/week1-MultilabelClassification.ipynb
@@ -846,6 +846,7 @@
    "outputs": [],
    "source": [
     "def print_evaluation_scores(y_val, predicted):\n",
+    
     "    \n",
     "    ######################################\n",
     "    ######### YOUR CODE HERE #############\n",
@@ -952,6 +953,7 @@
    "outputs": [],
    "source": [
     "test_predictions = ######### YOUR CODE HERE #############\n",
+    test_predictions=classifier_tfidf.predict(X_test_tfidf)
     "test_pred_inversed = mlb.inverse_transform(test_predictions)\n",
     "\n",
     "test_predictions_for_submission = '\\n'.join('%i\\t%s' % (i, ','.join(row)) for i, row in enumerate(test_pred_inversed))\n",
@@ -1006,6 +1008,7 @@
     "    ######### YOUR CODE HERE #############\n",
     "    ######################################\n",
     "    \n",
+         est=classifier.estimators_[tags_classes.index(tag)]
     "    top_positive_words = # top-5 words sorted by the coefficiens.\n",
     "    top_negative_words = # bottom-5 words  sorted by the coefficients.\n",
     "    print('Top positive words:\\t{}'.format(', '.join(top_positive_words)))\n",
@@ -1052,8 +1055,8 @@
    },
    "outputs": [],
    "source": [
-    "STUDENT_EMAIL = # EMAIL \n",
-    "STUDENT_TOKEN = # TOKEN \n",
+    "STUDENT_EMAIL = alimatlab65@yahoo.com\n",
+    "STUDENT_TOKEN = pqLNRJ8nkPCKCcZU \n",
     "grader.status()"
    ]
   },
@@ -1066,7 +1069,7 @@
   },
   {
    "cell_type": "code",
-   "execution_count": null,
+   "execution_count": run,
    "metadata": {
     "collapsed": true
    },
