@@ -846,6 +846,7 @@
   "outputs": [],	   "outputs": [],
   "source": [	   "source": [
    "def print_evaluation_scores(y_val, predicted):\n",	    "def print_evaluation_scores(y_val, predicted):\n",

    "    \n",	    "    \n",
    "    ######################################\n",	    "    ######################################\n",
    "    ######### YOUR CODE HERE #############\n",	    "    ######### YOUR CODE HERE #############\n",
@@ -952,6 +953,7 @@
   "outputs": [],	   "outputs": [],
   "source": [	   "source": [
    "test_predictions = ######### YOUR CODE HERE #############\n",	    "test_predictions = ######### YOUR CODE HERE #############\n",
    test_predictions=classifier_tfidf.predict(X_test_tfidf)
    "test_pred_inversed = mlb.inverse_transform(test_predictions)\n",	    "test_pred_inversed = mlb.inverse_transform(test_predictions)\n",
    "\n",	    "\n",
    "test_predictions_for_submission = '\\n'.join('%i\\t%s' % (i, ','.join(row)) for i, row in enumerate(test_pred_inversed))\n",	    "test_predictions_for_submission = '\\n'.join('%i\\t%s' % (i, ','.join(row)) for i, row in enumerate(test_pred_inversed))\n",
@@ -1006,6 +1008,7 @@
    "    ######### YOUR CODE HERE #############\n",	    "    ######### YOUR CODE HERE #############\n",
    "    ######################################\n",	    "    ######################################\n",
    "    \n",	    "    \n",
         test=classifier.estimators_[tags_classes.index(tag)]
    "    top_positive_words = # top-5 words sorted by the coefficiens.\n",	    "    top_positive_words = # top-5 words sorted by the coefficiens.\n",
    "    top_negative_words = # bottom-5 words  sorted by the coefficients.\n",	    "    top_negative_words = # bottom-5 words  sorted by the coefficients.\n",
    "    print('Top positive words:\\t{}'.format(', '.join(top_positive_words)))\n",	    "    print('Top positive words:\\t{}'.format(', '.join(top_positive_words)))\n",
@@ -1052,8 +1055,8 @@
   },	   },
   "outputs": [],	   "outputs": [],
   "source": [	   "source": [
    "STUDENT_EMAIL = # EMAIL \n",	    "STUDENT_EMAIL = alimatlab65@yahoo.com\n",
    "STUDENT_TOKEN = # TOKEN \n",	    "STUDENT_TOKEN = pqLNRJ8nkPCKCcZU \n",
    "grader.status()"	    "grader.status()"
   ]	   ]
  },	  },
@@ -1066,7 +1069,7 @@
  },	  },
  {	  {
   "cell_type": "code",	   "cell_type": "code",
   "execution_count": null,	   "execution_count": run,
   "metadata": {	  
   "metadata": {
    "collapsed": true	    "collapsed": true
   },	   },
