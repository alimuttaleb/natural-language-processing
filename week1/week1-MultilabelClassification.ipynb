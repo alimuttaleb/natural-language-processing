@@ -846,6 +846,7 @@
   "outputs": [],	   "outputs": [],
   "source": [	   "source": [
    "def print_evaluation_scores(y_val, predicted):\n",	    "def print_evaluation_scores(y_val, predicted):\n",

    "    \n",	    "    \n",
    "    ######################################\n",	    "    ######################################\n",
    "    ######### YOUR CODE HERE #############\n",	    "    ######### YOUR CODE HERE #############\n",
@@ -952,6 +953,7 @@
   "outputs": [],	   "outputs": [],
   "source": [	   "source": [
    "test_predictions = ######### YOUR CODE HERE #############\n",	    "test_predictions = ######### YOUR CODE HERE #############\n",
    test_predictions=classifier_tfidf.predict(X_test_tfidf)
    "test_pred_inversed = mlb.inverse_transform(test_predictions)\n",	    "test_pred_inversed = mlb.inverse_transform(test_predictions)\n",
    "\n",	    "\n",
    "test_predictions_for_submission = '\\n'.join('%i\\t%s' % (i, ','.join(row)) for i, row in enumerate(test_pred_inversed))\n",	    "test_predictions_for_submission = '\\n'.join('%i\\t%s' % (i, ','.join(row)) for i, row in enumerate(test_pred_inversed))\n",
@@ -1006,6 +1008,7 @@
    "    ######### YOUR CODE HERE #############\n",	    "    ######### YOUR CODE HERE #############\n",
    "    ######################################\n",	    "    ######################################\n",
    "    \n",	    "    \n",
         est=classifier.estimators_[tags_classes.index(tag)]
    "    top_positive_words = # top-5 words sorted by the coefficiens.\n",	    "    top_positive_words = # top-5 words sorted by the coefficiens.\n",
    "    top_negative_words = # bottom-5 words  sorted by the coefficients.\n",	    "    top_negative_words = # bottom-5 words  sorted by the coefficients.\n",
    "    print('Top positive words:\\t{}'.format(', '.join(top_positive_words)))\n",	    "    print('Top positive words:\\t{}'.format(', '.join(top_positive_words)))\n",
@@ -1052,8 +1055,8 @@
   },	   },
   "outputs": [],	   "outputs": [],
   "source": [	   "source": [
    "STUDENT_EMAIL = # EMAIL \n",	    "STUDENT_EMAIL = alimatlab65@yahoo.com\n",
    "STUDENT_TOKEN = # TOKEN \n",	    "STUDENT_TOKEN = pqLNRJ8nkPCKCcZU \n",
    "grader.status()"	    "grader.status()"
   ]	   ]
  },	  },
@@ -1066,7 +1069,7 @@
  },	  },
  {	  {
   "cell_type": "code",	   "cell_type": "code",
   "execution_count": null,	   "execution_count": run,
   "metadata": {	   "metadata": {
    "collapsed": true	    "collapsed": true
   },	   },
   "outputs": [],	   "outputs": [],
   "source": [	   "source": [
    "grader.submit(STUDENT_EMAIL, STUDENT_TOKEN)"	    "grader.submit(STUDENT_EMAIL, STUDENT_TOKEN)"
   ]	   ]
  }	  }
 ],	 ],
 "metadata": {	 "metadata": {
  "kernelspec": {	  "kernelspec": {
   "display_name": "Python 3",	   "display_name": "Python 3",
   "language": "python",	   "language": "python",
   "name": "python3"	   "name": "python3"
  },	  },
  "language_info": {	  "language_info": {
   "codemirror_mode": {	   "codemirror_mode": {
    "name": "ipython",	    "name": "ipython",
    "version": 3	    "version": 3
   },	   },
   "file_extension": ".py",	   "file_extension": ".py",
   "mimetype": "text/x-python",	   "mimetype": "text/x-python",
   "name": "python",	   "name": "python",
   "nbconvert_exporter": "python",	   "nbconvert_exporter": "python",
   "pygments_lexer": "ipython3",	   "pygments_lexer": "ipython3",
   "version": "3.4.3"	   "version": "3.4.3"
  }	  }
 },	 },
 "nbformat": 4,	 "nbformat": 4,
 "nbformat_minor": 2	 "nbformat_minor": 2
}	}
